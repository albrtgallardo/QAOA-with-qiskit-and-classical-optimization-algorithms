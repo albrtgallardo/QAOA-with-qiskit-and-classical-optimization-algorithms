{
 "cells": [
  {
   "cell_type": "code",
   "execution_count": 22,
   "id": "c1a90dd2-e094-4eae-a611-964c83e20cbd",
   "metadata": {},
   "outputs": [],
   "source": [
    "import numpy as np\n",
    "import autograd as ag\n",
    "import matplotlib.pyplot as plt\n",
    "\n",
    "import sympy as sp"
   ]
  },
  {
   "cell_type": "code",
   "execution_count": 23,
   "id": "66ae71c2-f2a4-4d2c-901f-b5e1b5a2753f",
   "metadata": {},
   "outputs": [],
   "source": [
    "T4 = 3\n",
    "T3 = 0\n",
    "T2 = -7\n",
    "T1 = -0.5\n",
    "T0 = 6\n",
    "\n",
    "n_iter = 10\n",
    "inf_range = -2\n",
    "sup_range = 2\n",
    "\n",
    "x = sp.symbols('x')\n",
    "f = T4*x**4 + T3*x**3 + T2*x**2 + T1*x + T0\n",
    "\n",
    "\n",
    "f_prime = sp.diff(f, x)\n",
    "f_second = sp.diff(f, x, 2)"
   ]
  },
  {
   "cell_type": "code",
   "execution_count": 24,
   "id": "fcffed91-5166-42cb-bd8e-80e2c66518d0",
   "metadata": {},
   "outputs": [
    {
     "data": {
      "image/png": "[encoded data removed]",
      "text/plain": [
       "<Figure size 640x480 with 1 Axes>"
      ]
     },
     "metadata": {},
     "output_type": "display_data"
    }
   ],
   "source": [
    "# Visualizar función\n",
    "x_vals = np.arange(inf_range, sup_range, 0.01)\n",
    "y_vals = T4*x_vals**4 + T3*x_vals**3 + T2*x_vals**2 + T1*x_vals + T0\n",
    "\n",
    "\n",
    "plt.plot(x_vals, y_vals)\n",
    "plt.grid()\n",
    "plt.title(\"Polinomio\")\n",
    "plt.show()"
   ]
  },
  {
   "cell_type": "code",
   "execution_count": 25,
   "id": "86224db8-b633-4723-9824-466dee619ffd",
   "metadata": {},
   "outputs": [],
   "source": [
    "def ini_vec(inf_range, sup_range):\n",
    "    return np.random.uniform(inf_range, sup_range)"
   ]
  },
  {
   "cell_type": "code",
   "execution_count": 26,
   "id": "edc916bc-283d-49e9-9de8-2273f85e56ef",
   "metadata": {},
   "outputs": [],
   "source": [
    "def Newton_method(inf_range, sup_range, n_iter, tolerance):\n",
    "    k = ini_vec(inf_range, sup_range)\n",
    "    print(f\"Valor inicial: {k}\")\n",
    "\n",
    "\n",
    "    for i in range(n_iter):\n",
    "        if f_second.subs(x, k) == 0:\n",
    "            print(\"Error en la segunda derivada, division entre 0\")\n",
    "            break\n",
    "\n",
    "        f_prime_val = f_prime.subs(x, k)\n",
    "        f_second_val = f_second.subs(x, k)\n",
    "        \n",
    "        frac = float(f_prime_val / f_second_val)\n",
    "        #print(frac)\n",
    "        k_new = (k - frac)\n",
    "        #print(f\"Iteración {i+1}: x = {k}\")\n",
    "\n",
    "        if abs(k_new - k) < tolerance:\n",
    "            break\n",
    "\n",
    "        k = k_new\n",
    "\n",
    "    return k\n"
   ]
  },
  {
   "cell_type": "code",
   "execution_count": 167,
   "id": "e410a22c-f916-43c4-97fd-6176f43fc2ba",
   "metadata": {},
   "outputs": [
    {
     "name": "stdout",
     "output_type": "stream",
     "text": [
      "Valor inicial: 0.2966290750869076\n"
     ]
    },
    {
     "data": {
      "text/plain": [
       "-0.10398440132092002"
      ]
     },
     "execution_count": 167,
     "metadata": {},
     "output_type": "execute_result"
    }
   ],
   "source": [
    "tolerance = 0.001\n",
    "Newton_method(inf_range, sup_range, n_iter, tolerance)"
   ]
  },
  {
   "cell_type": "code",
   "execution_count": null,
   "id": "513c2414-77b1-443b-ad9e-a23053e65e86",
   "metadata": {},
   "outputs": [],
   "source": []
  },
  {
   "cell_type": "code",
   "execution_count": null,
   "id": "3d2737d5-484b-45f4-91ca-34c75f3aa1fb",
   "metadata": {},
   "outputs": [],
   "source": [
    "x = sp.symbols('x')\n",
    "f = T4*x**4 + T3*x**3 + T2*x**2 + T1*x + T0\n",
    "\n",
    "\n",
    "f_prime = sp.diff(f, x)\n",
    "f_second = sp.diff(f, x, 2)\n",
    "\n",
    "def ini_vec(inf_range, sup_range):\n",
    "    return np.random.uniform(inf_range, sup_range)\n",
    "\n",
    "\n",
    "def Newton_method(inf_range, sup_range, n_iter, tolerance):\n",
    "    k = ini_vec(inf_range, sup_range)\n",
    "    print(f\"Valor inicial: {k}\")\n",
    "\n",
    "\n",
    "    for i in range(n_iter):\n",
    "        if f_second.subs(x, k) == 0:\n",
    "            print(\"Error en la segunda derivada, division entre 0\")\n",
    "            break\n",
    "\n",
    "        f_prime_val = f_prime.subs(x, k)\n",
    "        f_second_val = f_second.subs(x, k)\n",
    "        \n",
    "        frac = float(f_prime_val / f_second_val)\n",
    "        #print(frac)\n",
    "        k_new = (k - frac)\n",
    "        #print(f\"Iteración {i+1}: x = {k}\")\n",
    "\n",
    "        if abs(k_new - k) < tolerance:\n",
    "            break\n",
    "\n",
    "        k = k_new\n",
    "\n",
    "    return k\n"
   ]
  }
 ],
 "metadata": {
  "kernelspec": {
   "display_name": "Python 3 (ipykernel)",
   "language": "python",
   "name": "python3"
  },
  "language_info": {
   "codemirror_mode": {
    "name": "ipython",
    "version": 3
   },
   "file_extension": ".py",
   "mimetype": "text/x-python",
   "name": "python",
   "nbconvert_exporter": "python",
   "pygments_lexer": "ipython3",
   "version": "3.12.5"
  }
 },
 "nbformat": 4,
 "nbformat_minor": 5
}
